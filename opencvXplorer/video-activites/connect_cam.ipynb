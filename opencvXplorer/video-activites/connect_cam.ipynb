{
 "cells": [
  {
   "cell_type": "markdown",
   "id": "26fd2362-bb17-4fec-9f6e-23964723819b",
   "metadata": {},
   "source": [
    "## Connecting Camera"
   ]
  },
  {
   "cell_type": "raw",
   "id": "96ed7d13-9447-43b3-a723-faab7b25b5a1",
   "metadata": {},
   "source": [
    "Note: When playing around with camera in notebook, it is always better to check whether only one kernal for the notebook is running otherwsie it will be a mess."
   ]
  },
  {
   "cell_type": "code",
   "execution_count": 1,
   "id": "2f709c6c-15f4-496d-bd90-3a70f8a88612",
   "metadata": {},
   "outputs": [],
   "source": [
    "import cv2\n",
    "\n",
    "# It will capture all the live things from the camera as images/frames\n",
    "# 0 - to open the default camera\n",
    "capture = cv2.VideoCapture(0)\n",
    "\n",
    "width = int(capture.get(cv2.CAP_PROP_FRAME_WIDTH)) \n",
    "height = int(capture.get(cv2.CAP_PROP_FRAME_HEIGHT))\n",
    "\n",
    "# Saving video file\n",
    "# WINDOWS - DIVX\n",
    "# LINUX/MAC - CVID\n",
    "writer = cv2.VideoWriter('../dataset/video/myvideo.mp4', cv2.VideoWriter_fourcc(*\"DIVX\"), 20, (width, height))\n",
    "\n",
    "while True:\n",
    "    # Here we are reading all the images/frames continuosly\n",
    "    ret, frame = capture.read()\n",
    "\n",
    "    # Writing Operation - frame by frame we are writing \n",
    "    writer.write(frame)\n",
    "    \n",
    "    # converting frame to gray scale\n",
    "    # gray = cv2.cvtColor(frame, cv2.COLOR_BGR2GRAY)\n",
    "\n",
    "    # continuosly displaying the image/frame in gray scale\n",
    "    cv2.imshow('frame', frame)\n",
    "\n",
    "    # Esc key as close/exit button\n",
    "    if cv2.waitKey(1) & 0xFF == 27:\n",
    "        break\n",
    "\n",
    "# Closing the video writing operation\n",
    "writer.release()\n",
    "# closing the video capture and destroys all of the opened windows\n",
    "capture.release()\n",
    "cv2.destroyAllWindows()"
   ]
  },
  {
   "cell_type": "code",
   "execution_count": null,
   "id": "a1e27604-cefa-44d8-9d30-27618f74ac09",
   "metadata": {},
   "outputs": [],
   "source": []
  }
 ],
 "metadata": {
  "kernelspec": {
   "display_name": "Python 3 (ipykernel)",
   "language": "python",
   "name": "python3"
  },
  "language_info": {
   "codemirror_mode": {
    "name": "ipython",
    "version": 3
   },
   "file_extension": ".py",
   "mimetype": "text/x-python",
   "name": "python",
   "nbconvert_exporter": "python",
   "pygments_lexer": "ipython3",
   "version": "3.12.8"
  }
 },
 "nbformat": 4,
 "nbformat_minor": 5
}
