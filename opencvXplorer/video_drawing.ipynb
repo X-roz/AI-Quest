{
 "cells": [
  {
   "cell_type": "markdown",
   "id": "82084732-0f00-4da8-9bc3-246d74e8351c",
   "metadata": {
    "jp-MarkdownHeadingCollapsed": true
   },
   "source": [
    "## Drawing on live video"
   ]
  },
  {
   "cell_type": "code",
   "execution_count": 4,
   "id": "2d279b82-ed79-4943-ae69-7a1796fd85f9",
   "metadata": {},
   "outputs": [],
   "source": [
    "import cv2\n",
    "\n",
    "cap = cv2.VideoCapture(0)\n",
    "\n",
    "width = int(cap.get(cv2.CAP_PROP_FRAME_WIDTH))\n",
    "height = int(cap.get(cv2.CAP_PROP_FRAME_HEIGHT))\n",
    "\n",
    "# Drawing rectangle on the screen and its width is default width by 4 and height is default hegith by 4\n",
    "w = width // 4\n",
    "h =  height // 4\n",
    "\n",
    "# Rectangle's TOP LEFT CORNER coordinates\n",
    "x = width // 2\n",
    "y = height // 2\n",
    "\n",
    "# Rectangle's BOTTOM RIGHT CORNER coordinates - x+w, y+h\n",
    "\n",
    "while True:\n",
    "    ret, frame = cap.read()\n",
    "    # draws the rectangle on frame\n",
    "    cv2.rectangle(frame, (x,y), (x+w, y+h), (0,0,255), 4)\n",
    "    # displays it\n",
    "    cv2.imshow('frame', frame)\n",
    "\n",
    "    if cv2.waitKey(1) & 0xFF == 27:\n",
    "        break\n",
    "\n",
    "cap.release()\n",
    "cv2.destroyAllWindows()"
   ]
  },
  {
   "cell_type": "markdown",
   "id": "41a923cf-aa80-4d23-b311-7f4f560ac61e",
   "metadata": {
    "jp-MarkdownHeadingCollapsed": true
   },
   "source": [
    "## Inter-actively drawing on video"
   ]
  },
  {
   "cell_type": "code",
   "execution_count": 5,
   "id": "59db0660-eedd-4d9e-a39d-a36f1493d857",
   "metadata": {},
   "outputs": [],
   "source": [
    "import cv2\n",
    "\n",
    "# Variables\n",
    "window_name = 'Test'\n",
    "pt1 = (0,0)\n",
    "pt2 = (0,0)\n",
    "topLeft_clicked = False \n",
    "botRight_clicked = False\n",
    "\n",
    "# Event Callback function\n",
    "def draw_rectangle(event, x, y, flags,params):\n",
    "\n",
    "    global pt1, pt2, topLeft_clicked, botRight_clicked\n",
    "    \n",
    "    if event ==  cv2.EVENT_LBUTTONDOWN:\n",
    "\n",
    "        # RESET the Rectangle (checks if the rectangle is there)\n",
    "        if topLeft_clicked & botRight_clicked:\n",
    "            pt1 = (0,0)\n",
    "            pt2 = (0,0)\n",
    "            topLeft_clicked = False \n",
    "            botRight_clicked = False\n",
    "\n",
    "        if topLeft_clicked == False:\n",
    "            pt1 = (x,y)\n",
    "            topLeft_clicked=True\n",
    "        \n",
    "        elif botRight_clicked == False:\n",
    "            pt2 = (x,y)\n",
    "            botRight_clicked = True\n",
    "        \n",
    "\n",
    "# connecting the event Callback function\n",
    "cap = cv2.VideoCapture(0)\n",
    "\n",
    "cv2.namedWindow(winname = window_name)\n",
    "cv2.setMouseCallback(window_name, draw_rectangle)\n",
    "\n",
    "\n",
    "width = int(cap.get(cv2.CAP_PROP_FRAME_WIDTH))\n",
    "height = int(cap.get(cv2.CAP_PROP_FRAME_HEIGHT))\n",
    "\n",
    "while True:\n",
    "    ret, frame = cap.read()\n",
    "\n",
    "    # Drawing on frames as per variables\n",
    "    if topLeft_clicked:\n",
    "        cv2.circle(frame, pt1, 5, (0,0,255), -1)\n",
    "\n",
    "    if topLeft_clicked & botRight_clicked:\n",
    "        cv2.rectangle(frame, pt1, pt2, (0,0,255), 3)\n",
    "\n",
    "    \n",
    "    # displays it\n",
    "    cv2.imshow(window_name, frame)\n",
    "\n",
    "    if cv2.waitKey(1) & 0xFF == 27:\n",
    "        break\n",
    "\n",
    "cap.release()\n",
    "cv2.destroyAllWindows()"
   ]
  },
  {
   "cell_type": "markdown",
   "id": "383ab142-b69d-41c6-84f3-2f8a26bbfa4a",
   "metadata": {
    "jp-MarkdownHeadingCollapsed": true
   },
   "source": [
    "## Assessment "
   ]
  },
  {
   "cell_type": "markdown",
   "id": "893d1262-04b9-40e8-a36e-236e1f740cb9",
   "metadata": {},
   "source": [
    "### Project Task"
   ]
  },
  {
   "cell_type": "raw",
   "id": "d97fb862-541f-4ae7-8510-0a02e6725947",
   "metadata": {},
   "source": [
    "create a program that read the live stream from a camera. then whenever the left mouse button clicked, create a blue circle. "
   ]
  },
  {
   "cell_type": "code",
   "execution_count": 8,
   "id": "d35b80ac-edda-4535-b9c0-0d682b6b3ecd",
   "metadata": {},
   "outputs": [],
   "source": [
    "import cv2\n",
    "\n",
    "# variables\n",
    "window_name = 'Assessment'\n",
    "centre_point = (0,0)\n",
    "c_radius = 25\n",
    "circleCenter_clicked = False\n",
    "\n",
    "# Event function\n",
    "def draw_circle(event, x, y, flags, params):\n",
    "\n",
    "    global centre_point, circleCenter_clicked\n",
    "    \n",
    "    if event == cv2.EVENT_LBUTTONDOWN:\n",
    "\n",
    "        # RESET the Circle\n",
    "        if circleCenter_clicked:\n",
    "            centre_point = (0,0)\n",
    "            circleCenter_clicked = False\n",
    "\n",
    "        if circleCenter_clicked == False:\n",
    "            centre_point = (x,y)\n",
    "            circleCenter_clicked = True\n",
    "\n",
    "# connection\n",
    "cap = cv2.VideoCapture(0)\n",
    "\n",
    "cv2.namedWindow(winname = window_name)\n",
    "cv2.setMouseCallback(window_name, draw_circle)\n",
    "\n",
    "while cap.isOpened():\n",
    "\n",
    "    ret, frame = cap.read()\n",
    "\n",
    "    # Task's Operation\n",
    "    if circleCenter_clicked:\n",
    "        cv2.circle(frame, centre_point, c_radius, (255,0,0), 3)\n",
    "\n",
    "    cv2.imshow(window_name, frame)\n",
    "\n",
    "    if cv2.waitKey(1) & 0xFF == 27:\n",
    "        break\n",
    "\n",
    "cap.release()\n",
    "cv2.destroyAllWindows()"
   ]
  }
 ],
 "metadata": {
  "kernelspec": {
   "display_name": "Python 3 (ipykernel)",
   "language": "python",
   "name": "python3"
  },
  "language_info": {
   "codemirror_mode": {
    "name": "ipython",
    "version": 3
   },
   "file_extension": ".py",
   "mimetype": "text/x-python",
   "name": "python",
   "nbconvert_exporter": "python",
   "pygments_lexer": "ipython3",
   "version": "3.12.8"
  }
 },
 "nbformat": 4,
 "nbformat_minor": 5
}
