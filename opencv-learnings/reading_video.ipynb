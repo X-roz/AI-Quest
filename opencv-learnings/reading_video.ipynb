{
 "cells": [
  {
   "cell_type": "markdown",
   "id": "91d164c9-6827-4b90-af71-89bfedaa7ff2",
   "metadata": {},
   "source": [
    "## Reading Video files"
   ]
  },
  {
   "cell_type": "code",
   "execution_count": 5,
   "id": "bf533128-b509-41f8-99d7-0d96dc702cdc",
   "metadata": {},
   "outputs": [],
   "source": [
    "import cv2\n",
    "# import time\n",
    "\n",
    "cap = cv2.VideoCapture('../video/myvideo.mp4')\n",
    "\n",
    "if cap.isOpened() == False:\n",
    "    print('File not found or Wrong codec used') # wrong codec means while reading a video from windows then the video codec is DIVX otherwise None \n",
    "\n",
    "while cap.isOpened():\n",
    "    ret, frame = cap.read()\n",
    "\n",
    "    if ret == True:\n",
    "\n",
    "        # Here we can control the speed of the video whether we need to show 20 frames per sec or slower\n",
    "        # time.sleep(1/20)\n",
    "        \n",
    "        cv2.imshow('frame', frame)\n",
    "        if cv2.waitKey(1) & 0xFF == 27:\n",
    "            break\n",
    "    else:\n",
    "        break\n",
    "\n",
    "cap.release()\n",
    "cv2.destroyAllWindows()\n"
   ]
  }
 ],
 "metadata": {
  "kernelspec": {
   "display_name": "Python 3 (ipykernel)",
   "language": "python",
   "name": "python3"
  },
  "language_info": {
   "codemirror_mode": {
    "name": "ipython",
    "version": 3
   },
   "file_extension": ".py",
   "mimetype": "text/x-python",
   "name": "python",
   "nbconvert_exporter": "python",
   "pygments_lexer": "ipython3",
   "version": "3.12.8"
  }
 },
 "nbformat": 4,
 "nbformat_minor": 5
}
