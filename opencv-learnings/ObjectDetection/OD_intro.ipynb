{
 "cells": [
  {
   "cell_type": "markdown",
   "id": "d87b4da0-7167-436e-ab0f-9751d3205d11",
   "metadata": {},
   "source": [
    "## Intro to Object Detection "
   ]
  },
  {
   "cell_type": "markdown",
   "id": "116283b2-1537-4b0b-b0b1-9c986356d5f4",
   "metadata": {},
   "source": [
    "### Template Matching\n",
    "\n",
    "\n",
    "Simpliest detection method, it looks for eact copy of an image in another image."
   ]
  },
  {
   "cell_type": "markdown",
   "id": "b24eecfb-39db-4cc2-9924-56809d4a7362",
   "metadata": {},
   "source": [
    "### Corner Detection\n",
    "\n",
    "Looking for corners in the images."
   ]
  },
  {
   "cell_type": "markdown",
   "id": "170c2e62-1901-4c09-8a3a-40b0dc63a167",
   "metadata": {},
   "source": [
    "### Edge Detection \n",
    "\n",
    "Expanding to find patterns/general edges of the object"
   ]
  },
  {
   "cell_type": "markdown",
   "id": "19825548-d5ce-4586-8463-3ac514a0ac4e",
   "metadata": {},
   "source": [
    "### Grid Detection\n",
    "\n",
    "Combining both corner and edge detection methids to find grids in images "
   ]
  },
  {
   "cell_type": "markdown",
   "id": "ed281f03-0eca-4cfd-b76f-1c2c0b21c134",
   "metadata": {},
   "source": [
    "### Contour Detection\n",
    "\n",
    "Allows us to detect foreground vs background images.\n",
    "Also Allows for detection of internal and external contours (ex: grabbing eyes and smile from a cartoon character)"
   ]
  },
  {
   "cell_type": "markdown",
   "id": "9f44689a-f3a0-4368-a121-8ad76ba72dd3",
   "metadata": {},
   "source": [
    "### Feature Matching\n",
    "\n",
    "Advanced method of detecting matching objects in another image even if the target image is not shown exactly the same in the image we are searching"
   ]
  },
  {
   "cell_type": "markdown",
   "id": "4f4740ac-5b94-49b8-b7eb-37144281ab20",
   "metadata": {},
   "source": [
    "### Watershed algorithm\n",
    "\n",
    "Advanced algorithm that allows us to segment images into forground and background.\n",
    "Moreover we can manually set seeds to choose segments of an image."
   ]
  },
  {
   "cell_type": "markdown",
   "id": "dc212f29-59fb-48f9-85fe-834fa2e230a3",
   "metadata": {},
   "source": [
    "### Facial and Eye detection\n",
    "\n",
    "we will use Haar cascades to detect faces in images. Note: this is not yet a facial recognition that require deep learning concepts."
   ]
  }
 ],
 "metadata": {
  "kernelspec": {
   "display_name": "Python 3 (ipykernel)",
   "language": "python",
   "name": "python3"
  },
  "language_info": {
   "codemirror_mode": {
    "name": "ipython",
    "version": 3
   },
   "file_extension": ".py",
   "mimetype": "text/x-python",
   "name": "python",
   "nbconvert_exporter": "python",
   "pygments_lexer": "ipython3",
   "version": "3.12.8"
  }
 },
 "nbformat": 4,
 "nbformat_minor": 5
}
