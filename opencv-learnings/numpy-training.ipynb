{
 "cells": [
  {
   "cell_type": "code",
   "execution_count": 1,
   "id": "2f8b86b3-abbd-437a-b1f1-2cce4f4f5b5b",
   "metadata": {},
   "outputs": [
    {
     "name": "stdout",
     "output_type": "stream",
     "text": [
      "[1 2 3 4]\n"
     ]
    }
   ],
   "source": [
    "import numpy as np"
   ]
  },
  {
   "cell_type": "code",
   "execution_count": 16,
   "id": "12156bfd-4ae5-4c78-afec-015e943754e9",
   "metadata": {},
   "outputs": [
    {
     "name": "stdout",
     "output_type": "stream",
     "text": [
      "Numpy Array - 1D\n",
      "[1 2 3 4]\n",
      "Numpy Array - 2D\n",
      "[[1 2]\n",
      " [3 4]]\n",
      "Numpy Array - 3D\n",
      "[[[1 4]\n",
      "  [5 6]]]\n"
     ]
    }
   ],
   "source": [
    "print(\"Numpy Array - 1D\")\n",
    "print(np.array([1,2,3,4]))\n",
    "print(\"Numpy Array - 2D\")\n",
    "print(np.array([[1,2], [3,4]]))\n",
    "print(\"Numpy Array - 3D\")\n",
    "print(np.array([[[1,4],[5,6]]]))"
   ]
  },
  {
   "cell_type": "code",
   "execution_count": 5,
   "id": "67138008-793b-4e91-bf5a-df89b361a4ff",
   "metadata": {},
   "outputs": [
    {
     "data": {
      "text/plain": [
       "array([ 1,  2,  3,  4,  5,  6,  7,  8,  9, 10])"
      ]
     },
     "execution_count": 5,
     "metadata": {},
     "output_type": "execute_result"
    }
   ],
   "source": [
    "np.arange(1,11,1)"
   ]
  },
  {
   "cell_type": "code",
   "execution_count": 6,
   "id": "20c95d6f-44a8-431c-9c3e-78d81b5728a5",
   "metadata": {},
   "outputs": [
    {
     "data": {
      "text/plain": [
       "(6,)"
      ]
     },
     "execution_count": 6,
     "metadata": {},
     "output_type": "execute_result"
    }
   ],
   "source": [
    "np.array([1,2,3,4,5,6]).shape"
   ]
  },
  {
   "cell_type": "code",
   "execution_count": 35,
   "id": "50d99f66-72db-4d28-ab82-4f163278d729",
   "metadata": {},
   "outputs": [
    {
     "data": {
      "text/plain": [
       "array([96, 12, 82, 71, 64, 88, 76, 10, 78, 41])"
      ]
     },
     "execution_count": 35,
     "metadata": {},
     "output_type": "execute_result"
    }
   ],
   "source": [
    "np.random.seed(101) \n",
    "# using this random generated array is same for everytime it runs\n",
    "arr = np.random.randint(1,100,10)\n",
    "arr"
   ]
  },
  {
   "cell_type": "code",
   "execution_count": 36,
   "id": "e7a45d7a-42a3-43fc-b6d8-4f7454df8606",
   "metadata": {},
   "outputs": [],
   "source": [
    "arr = arr.reshape(2,5) \n",
    "# the multiple of values provided as params must be equal to the size of the array\n",
    "# here possible shapes are: 5x2, 2x5, 10x1, 1x10"
   ]
  },
  {
   "cell_type": "code",
   "execution_count": 19,
   "id": "902e47a0-c7cd-4255-97fa-e8ba775361cb",
   "metadata": {},
   "outputs": [
    {
     "data": {
      "text/plain": [
       "array([[0, 0, 0],\n",
       "       [0, 0, 0]])"
      ]
     },
     "execution_count": 19,
     "metadata": {},
     "output_type": "execute_result"
    }
   ],
   "source": [
    "np.zeros((2,3), int)"
   ]
  },
  {
   "cell_type": "code",
   "execution_count": 23,
   "id": "db8d7849-c724-46c5-9b97-dbf434382888",
   "metadata": {},
   "outputs": [
    {
     "data": {
      "text/plain": [
       "array([1, 1])"
      ]
     },
     "execution_count": 23,
     "metadata": {},
     "output_type": "execute_result"
    }
   ],
   "source": [
    "np.ones((2,), int)"
   ]
  },
  {
   "cell_type": "code",
   "execution_count": 37,
   "id": "96df4350-3431-45de-8ac4-a362783191df",
   "metadata": {},
   "outputs": [
    {
     "data": {
      "text/plain": [
       "array([[ 0,  0, 82, 71, 64],\n",
       "       [ 0,  0, 10, 78, 41]])"
      ]
     },
     "execution_count": 37,
     "metadata": {},
     "output_type": "execute_result"
    }
   ],
   "source": [
    "arr[:,0:2] = 0\n",
    "arr"
   ]
  },
  {
   "cell_type": "code",
   "execution_count": 38,
   "id": "b42410d9-e0f7-4758-ade8-048e1fb36ab8",
   "metadata": {},
   "outputs": [
    {
     "data": {
      "text/plain": [
       "array([[ 5,  5, 82, 71, 64],\n",
       "       [ 5,  5, 10, 78, 41]])"
      ]
     },
     "execution_count": 38,
     "metadata": {},
     "output_type": "execute_result"
    }
   ],
   "source": [
    "new_arr = np.copy(arr)\n",
    "new_arr[:,0:2] = 5\n",
    "new_arr"
   ]
  },
  {
   "cell_type": "code",
   "execution_count": null,
   "id": "1c485b0e-8855-433d-884a-8402458121bc",
   "metadata": {},
   "outputs": [],
   "source": []
  }
 ],
 "metadata": {
  "kernelspec": {
   "display_name": "Python 3 (ipykernel)",
   "language": "python",
   "name": "python3"
  },
  "language_info": {
   "codemirror_mode": {
    "name": "ipython",
    "version": 3
   },
   "file_extension": ".py",
   "mimetype": "text/x-python",
   "name": "python",
   "nbconvert_exporter": "python",
   "pygments_lexer": "ipython3",
   "version": "3.12.8"
  }
 },
 "nbformat": 4,
 "nbformat_minor": 5
}
