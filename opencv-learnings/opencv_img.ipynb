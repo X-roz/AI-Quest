{
 "cells": [
  {
   "cell_type": "code",
   "execution_count": null,
   "id": "136ebbd8-afdf-42cc-9fb9-f3f832a7af95",
   "metadata": {},
   "outputs": [],
   "source": [
    "import cv2\n",
    "\n",
    "img = cv2.imread(\"C:/Users/HP/vk-works/AI/Basics-learnings/dataset/img/vicky.jpg\")\n",
    "\n",
    "cv2.imshow('vicky', img)\n",
    "cv2.waitKey()"
   ]
  },
  {
   "cell_type": "code",
   "execution_count": null,
   "id": "1ff0c235-0bef-4987-a03d-1ce5784c9e09",
   "metadata": {},
   "outputs": [],
   "source": []
  }
 ],
 "metadata": {
  "kernelspec": {
   "display_name": "Python 3 (ipykernel)",
   "language": "python",
   "name": "python3"
  },
  "language_info": {
   "codemirror_mode": {
    "name": "ipython",
    "version": 3
   },
   "file_extension": ".py",
   "mimetype": "text/x-python",
   "name": "python",
   "nbconvert_exporter": "python",
   "pygments_lexer": "ipython3",
   "version": "3.12.8"
  }
 },
 "nbformat": 4,
 "nbformat_minor": 5
}
